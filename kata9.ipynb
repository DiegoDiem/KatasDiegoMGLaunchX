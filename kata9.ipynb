{
 "cells": [
  {
   "cell_type": "code",
   "execution_count": null,
   "metadata": {},
   "outputs": [],
   "source": []
  },
  {
   "cell_type": "markdown",
   "metadata": {},
   "source": [
    "# Ejercicio: Uso de funciones en Python\n"
   ]
  },
  {
   "cell_type": "markdown",
   "metadata": {},
   "source": [
    "### Ejercicio 1: Trabajar con argumentos en funciones\n"
   ]
  },
  {
   "cell_type": "code",
   "execution_count": 27,
   "metadata": {},
   "outputs": [],
   "source": [
    "# Función para leer 3 tanques de combustible y muestre el promedio\n",
    "def combustible(tanque1,tanque2,tanque3):\n",
    "    promedio=(tanque1+tanque2+tanque3)/3\n",
    "    print(\"El promedio es:\",promedio,'\\n' ,\"Con tanque 1: \",tanque1,'\\n' ,\"tanque 2: \",tanque2,'\\n' ,\"tanque 3:\" ,tanque3)\n",
    "     "
   ]
  },
  {
   "cell_type": "code",
   "execution_count": 28,
   "metadata": {},
   "outputs": [
    {
     "name": "stdout",
     "output_type": "stream",
     "text": [
      "El promedio es: 33.333333333333336 \n",
      " Con tanque 1:  30 \n",
      " tanque 2:  20 \n",
      " tanque 3: 50\n"
     ]
    }
   ],
   "source": [
    "# Llamamos a la función que genera el reporte print(funcion(tanque1, tanque2, tanque3))\n",
    "combustible(30,20,50)"
   ]
  },
  {
   "cell_type": "code",
   "execution_count": 31,
   "metadata": {},
   "outputs": [
    {
     "data": {
      "text/plain": [
       "20.0"
      ]
     },
     "execution_count": 31,
     "metadata": {},
     "output_type": "execute_result"
    }
   ],
   "source": [
    "# Función promedio \n",
    "def promedio(tanque1,tanque2,tanque3):\n",
    "    prom=(tanque1+tanque2+tanque3)/3\n",
    "    return prom\n",
    "\n",
    "promedio(30,10,20)"
   ]
  },
  {
   "cell_type": "code",
   "execution_count": 34,
   "metadata": {},
   "outputs": [
    {
     "name": "stdout",
     "output_type": "stream",
     "text": [
      "El promedio es: 20.0 \n",
      " Tanque 1:  30 \n",
      " Tanque 2:  10 \n",
      " Tanque 3: 20\n"
     ]
    }
   ],
   "source": [
    "# Actualiza la función\n",
    "def combustible(tanque1,tanque2,tanque3):\n",
    "    \n",
    "    print(\"El promedio es:\",promedio(tanque1,tanque2,tanque3),'\\n' ,\"Tanque 1: \",tanque1,'\\n' ,\"Tanque 2: \",tanque2,'\\n' ,\"Tanque 3:\" ,tanque3)\n",
    "\n",
    "combustible(30,10,20)"
   ]
  },
  {
   "cell_type": "markdown",
   "metadata": {},
   "source": [
    "# Ejercicio 2: Trabajo con argumentos de palabra clave"
   ]
  },
  {
   "cell_type": "markdown",
   "metadata": {},
   "source": [
    "### Ejercicio : Trabajar con argumentos de palabras clave en funciones"
   ]
  },
  {
   "cell_type": "code",
   "execution_count": 35,
   "metadata": {},
   "outputs": [
    {
     "name": "stdout",
     "output_type": "stream",
     "text": [
      "La hora de lanzamiento es a las:  12 \n",
      " El tiempo de vuelo:  6 \n",
      " Tiempo destino:  Jupiter \n",
      " Tanque Exterior de:  300 \n",
      " Tanque Interior de:  500\n"
     ]
    }
   ],
   "source": [
    "# Función con un informe preciso de la misión. Considera hora de prelanzamiento, tiempo de vuelo, destino, tanque externo y tanque interno\n",
    "def informeMision(horaLanzamiento, tiempoVuelo, destino, tanqueExt, tanqueInt):\n",
    "    print(\"La hora de lanzamiento es a las: \",horaLanzamiento,'\\n' ,\"El tiempo de vuelo: \",tiempoVuelo,'\\n' ,\"Tiempo destino: \",destino,'\\n' ,\"Tanque Exterior de: \" ,tanqueExt,'\\n' ,\"Tanque Interior de: \" ,tanqueInt)\n",
    "\n",
    "informeMision(12,6,'Jupiter',300,500)"
   ]
  },
  {
   "cell_type": "code",
   "execution_count": 39,
   "metadata": {},
   "outputs": [
    {
     "name": "stdout",
     "output_type": "stream",
     "text": [
      "Tiempo destino:  Jupiter \n",
      " Tiempo en minutos:  20 \n",
      " Total combustible de reserva:  500\n"
     ]
    }
   ],
   "source": [
    "# Escribe tu nueva función de reporte considerando lo anterior\n",
    "def informeMision(destino, *minutes,**fuel_reservoirs ):\n",
    "    print(\"Tiempo destino: \",destino,'\\n' ,\"Tiempo en minutos: \" ,sum(minutes),'\\n' ,\"Total combustible de reserva: \" ,sum(fuel_reservoirs.values()))\n",
    "\n",
    "informeMision(\"Jupiter\",10,10,main=300, externo=200)"
   ]
  },
  {
   "cell_type": "code",
   "execution_count": 71,
   "metadata": {},
   "outputs": [
    {
     "name": "stdout",
     "output_type": "stream",
     "text": [
      "Tiempo destino:  Jupiter \n",
      " Tiempo en minutos:  20 \n",
      " Nombre de los tanques: \n",
      "interno\n",
      "externo\n"
     ]
    }
   ],
   "source": [
    "# Escribe tu nueva función\n",
    "def informeMision(destino, *minutes,**fuel_reservoirs ):\n",
    "    print(\"Tiempo destino: \",destino,'\\n' ,\"Tiempo en minutos: \" ,sum(minutes),'\\n' ,\"Nombre de los tanques: \" )\n",
    "    for value in fuel_reservoirs.keys():\n",
    "        print(value)\n",
    "\n",
    "informeMision(\"Jupiter\",10,10,interno=300, externo=200)"
   ]
  }
 ],
 "metadata": {
  "interpreter": {
   "hash": "72ee439f6061e193b5ed7d344231c827066f8b245387f06ee3b57db7266681f2"
  },
  "kernelspec": {
   "display_name": "Python 3.10.2 64-bit (windows store)",
   "language": "python",
   "name": "python3"
  },
  "language_info": {
   "codemirror_mode": {
    "name": "ipython",
    "version": 3
   },
   "file_extension": ".py",
   "mimetype": "text/x-python",
   "name": "python",
   "nbconvert_exporter": "python",
   "pygments_lexer": "ipython3",
   "version": "3.10.2"
  },
  "orig_nbformat": 4
 },
 "nbformat": 4,
 "nbformat_minor": 2
}
